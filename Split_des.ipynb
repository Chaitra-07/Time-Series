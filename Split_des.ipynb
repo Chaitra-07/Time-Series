{
  "nbformat": 4,
  "nbformat_minor": 0,
  "metadata": {
    "colab": {
      "name": "Split_des.ipynb",
      "provenance": []
    },
    "kernelspec": {
      "name": "python3",
      "display_name": "Python 3"
    }
  },
  "cells": [
    {
      "cell_type": "code",
      "metadata": {
        "id": "aU01yrmOyUEv",
        "colab_type": "code",
        "colab": {
          "base_uri": "https://localhost:8080/",
          "height": 122
        },
        "outputId": "45e06c87-9d56-4417-8b16-67d7373583d8"
      },
      "source": [
        "from google.colab import drive\n",
        "drive.mount('/content/gdrive')"
      ],
      "execution_count": 1,
      "outputs": [
        {
          "output_type": "stream",
          "text": [
            "Go to this URL in a browser: https://accounts.google.com/o/oauth2/auth?client_id=947318989803-6bn6qk8qdgf4n4g3pfee6491hc0brc4i.apps.googleusercontent.com&redirect_uri=urn%3aietf%3awg%3aoauth%3a2.0%3aoob&response_type=code&scope=email%20https%3a%2f%2fwww.googleapis.com%2fauth%2fdocs.test%20https%3a%2f%2fwww.googleapis.com%2fauth%2fdrive%20https%3a%2f%2fwww.googleapis.com%2fauth%2fdrive.photos.readonly%20https%3a%2f%2fwww.googleapis.com%2fauth%2fpeopleapi.readonly\n",
            "\n",
            "Enter your authorization code:\n",
            "··········\n",
            "Mounted at /content/gdrive\n"
          ],
          "name": "stdout"
        }
      ]
    },
    {
      "cell_type": "code",
      "metadata": {
        "id": "jqxNZkhI3ALy",
        "colab_type": "code",
        "colab": {
          "base_uri": "https://localhost:8080/",
          "height": 51
        },
        "outputId": "b2f51fc7-8ed9-4ff4-f64b-185bc47d502c"
      },
      "source": [
        "import pandas as pd\n",
        "import numpy as np\n",
        "import matplotlib.pyplot as plt\n",
        "import seaborn as sb"
      ],
      "execution_count": 2,
      "outputs": [
        {
          "output_type": "stream",
          "text": [
            "/usr/local/lib/python3.6/dist-packages/statsmodels/tools/_testing.py:19: FutureWarning: pandas.util.testing is deprecated. Use the functions in the public API at pandas.testing instead.\n",
            "  import pandas.util.testing as tm\n"
          ],
          "name": "stderr"
        }
      ]
    },
    {
      "cell_type": "code",
      "metadata": {
        "colab_type": "code",
        "id": "pTyC_XBF4yCJ",
        "colab": {}
      },
      "source": [
        "data = pd.read_excel('gdrive/My Drive/mydataset/SKUMaster.xlsx')"
      ],
      "execution_count": 0,
      "outputs": []
    },
    {
      "cell_type": "code",
      "metadata": {
        "id": "wW7vF3Ij5A37",
        "colab_type": "code",
        "colab": {
          "base_uri": "https://localhost:8080/",
          "height": 204
        },
        "outputId": "f433bd6c-ed3a-432d-d852-79c051c76d31"
      },
      "source": [
        "data.head()"
      ],
      "execution_count": 8,
      "outputs": [
        {
          "output_type": "execute_result",
          "data": {
            "text/html": [
              "<div>\n",
              "<style scoped>\n",
              "    .dataframe tbody tr th:only-of-type {\n",
              "        vertical-align: middle;\n",
              "    }\n",
              "\n",
              "    .dataframe tbody tr th {\n",
              "        vertical-align: top;\n",
              "    }\n",
              "\n",
              "    .dataframe thead th {\n",
              "        text-align: right;\n",
              "    }\n",
              "</style>\n",
              "<table border=\"1\" class=\"dataframe\">\n",
              "  <thead>\n",
              "    <tr style=\"text-align: right;\">\n",
              "      <th></th>\n",
              "      <th>SAP Code</th>\n",
              "      <th>Description in SAP</th>\n",
              "      <th>Source type</th>\n",
              "      <th>TireSize</th>\n",
              "      <th>Rim Size</th>\n",
              "      <th>Speed</th>\n",
              "      <th>Index</th>\n",
              "      <th>Pattern</th>\n",
              "      <th>Pattern Chinese</th>\n",
              "      <th>Section Width</th>\n",
              "      <th>Aspect Ratio</th>\n",
              "      <th>LongTail</th>\n",
              "      <th>SlowMoving</th>\n",
              "    </tr>\n",
              "  </thead>\n",
              "  <tbody>\n",
              "    <tr>\n",
              "      <th>0</th>\n",
              "      <td>528552</td>\n",
              "      <td>225/75R15 106Q WRL RAD AT XL</td>\n",
              "      <td>Local</td>\n",
              "      <td>225/75R15</td>\n",
              "      <td>15</td>\n",
              "      <td>106</td>\n",
              "      <td>Q</td>\n",
              "      <td>WRL RAD AT</td>\n",
              "      <td>静音装甲</td>\n",
              "      <td>225</td>\n",
              "      <td>75.0</td>\n",
              "      <td>NaN</td>\n",
              "      <td>NaN</td>\n",
              "    </tr>\n",
              "    <tr>\n",
              "      <th>1</th>\n",
              "      <td>557654</td>\n",
              "      <td>P215/75R15 100S WRL RAD AT</td>\n",
              "      <td>Local</td>\n",
              "      <td>P215/75R15</td>\n",
              "      <td>15</td>\n",
              "      <td>100</td>\n",
              "      <td>S</td>\n",
              "      <td>WRL RAD AT</td>\n",
              "      <td>静音装甲</td>\n",
              "      <td>P215</td>\n",
              "      <td>75.0</td>\n",
              "      <td>NaN</td>\n",
              "      <td>NaN</td>\n",
              "    </tr>\n",
              "    <tr>\n",
              "      <th>2</th>\n",
              "      <td>539792</td>\n",
              "      <td>235/60R16 100H WRANGLER TRIPLEMAX FP</td>\n",
              "      <td>Import</td>\n",
              "      <td>235/60R16</td>\n",
              "      <td>16</td>\n",
              "      <td>100</td>\n",
              "      <td>H</td>\n",
              "      <td>WRANGLER TRIPLEMAX</td>\n",
              "      <td>NaN</td>\n",
              "      <td>235</td>\n",
              "      <td>60.0</td>\n",
              "      <td>NaN</td>\n",
              "      <td>NaN</td>\n",
              "    </tr>\n",
              "    <tr>\n",
              "      <th>3</th>\n",
              "      <td>539793</td>\n",
              "      <td>235/60R17 102H WRANGLER TRIPLEMAX FP</td>\n",
              "      <td>Import</td>\n",
              "      <td>235/60R17</td>\n",
              "      <td>17</td>\n",
              "      <td>102</td>\n",
              "      <td>H</td>\n",
              "      <td>WRANGLER TRIPLEMAX</td>\n",
              "      <td>NaN</td>\n",
              "      <td>235</td>\n",
              "      <td>60.0</td>\n",
              "      <td>NaN</td>\n",
              "      <td>NaN</td>\n",
              "    </tr>\n",
              "    <tr>\n",
              "      <th>4</th>\n",
              "      <td>541577</td>\n",
              "      <td>215/70R16 100H WRANGLER TRIPLEMAX FP</td>\n",
              "      <td>Local</td>\n",
              "      <td>215/70R16</td>\n",
              "      <td>16</td>\n",
              "      <td>100</td>\n",
              "      <td>H</td>\n",
              "      <td>WRANGLER TRIPLEMAX</td>\n",
              "      <td>NaN</td>\n",
              "      <td>215</td>\n",
              "      <td>70.0</td>\n",
              "      <td>NaN</td>\n",
              "      <td>NaN</td>\n",
              "    </tr>\n",
              "  </tbody>\n",
              "</table>\n",
              "</div>"
            ],
            "text/plain": [
              "   SAP Code                    Description in SAP  ... LongTail SlowMoving\n",
              "0    528552          225/75R15 106Q WRL RAD AT XL  ...      NaN        NaN\n",
              "1    557654            P215/75R15 100S WRL RAD AT  ...      NaN        NaN\n",
              "2    539792  235/60R16 100H WRANGLER TRIPLEMAX FP  ...      NaN        NaN\n",
              "3    539793  235/60R17 102H WRANGLER TRIPLEMAX FP  ...      NaN        NaN\n",
              "4    541577  215/70R16 100H WRANGLER TRIPLEMAX FP  ...      NaN        NaN\n",
              "\n",
              "[5 rows x 13 columns]"
            ]
          },
          "metadata": {
            "tags": []
          },
          "execution_count": 8
        }
      ]
    },
    {
      "cell_type": "code",
      "metadata": {
        "id": "yfhBcEHD5O-a",
        "colab_type": "code",
        "colab": {}
      },
      "source": [
        "# Main code for spliting \n",
        "new = data[\"Description in SAP\"].str.split(\" \", n = 2, expand = True) \n",
        "# making separate column from new data frame \n",
        "data[\"1\"]= new[0] \n",
        "  \n",
        "# making separate  column from new data frame \n",
        "data[\"2\"]= new[1] \n",
        "\n",
        " # making separate  column from new data frame \n",
        "data[\"3\"]= new[2]  \n",
        "\n"
      ],
      "execution_count": 0,
      "outputs": []
    },
    {
      "cell_type": "code",
      "metadata": {
        "id": "McW4vG586iSy",
        "colab_type": "code",
        "colab": {
          "base_uri": "https://localhost:8080/",
          "height": 419
        },
        "outputId": "e27d9cd0-a466-4b7b-aba9-7f3ff1e47c2d"
      },
      "source": [
        "new"
      ],
      "execution_count": 10,
      "outputs": [
        {
          "output_type": "execute_result",
          "data": {
            "text/html": [
              "<div>\n",
              "<style scoped>\n",
              "    .dataframe tbody tr th:only-of-type {\n",
              "        vertical-align: middle;\n",
              "    }\n",
              "\n",
              "    .dataframe tbody tr th {\n",
              "        vertical-align: top;\n",
              "    }\n",
              "\n",
              "    .dataframe thead th {\n",
              "        text-align: right;\n",
              "    }\n",
              "</style>\n",
              "<table border=\"1\" class=\"dataframe\">\n",
              "  <thead>\n",
              "    <tr style=\"text-align: right;\">\n",
              "      <th></th>\n",
              "      <th>0</th>\n",
              "      <th>1</th>\n",
              "      <th>2</th>\n",
              "    </tr>\n",
              "  </thead>\n",
              "  <tbody>\n",
              "    <tr>\n",
              "      <th>0</th>\n",
              "      <td>225/75R15</td>\n",
              "      <td>106Q</td>\n",
              "      <td>WRL RAD AT XL</td>\n",
              "    </tr>\n",
              "    <tr>\n",
              "      <th>1</th>\n",
              "      <td>P215/75R15</td>\n",
              "      <td>100S</td>\n",
              "      <td>WRL RAD AT</td>\n",
              "    </tr>\n",
              "    <tr>\n",
              "      <th>2</th>\n",
              "      <td>235/60R16</td>\n",
              "      <td>100H</td>\n",
              "      <td>WRANGLER TRIPLEMAX FP</td>\n",
              "    </tr>\n",
              "    <tr>\n",
              "      <th>3</th>\n",
              "      <td>235/60R17</td>\n",
              "      <td>102H</td>\n",
              "      <td>WRANGLER TRIPLEMAX FP</td>\n",
              "    </tr>\n",
              "    <tr>\n",
              "      <th>4</th>\n",
              "      <td>215/70R16</td>\n",
              "      <td>100H</td>\n",
              "      <td>WRANGLER TRIPLEMAX FP</td>\n",
              "    </tr>\n",
              "    <tr>\n",
              "      <th>...</th>\n",
              "      <td>...</td>\n",
              "      <td>...</td>\n",
              "      <td>...</td>\n",
              "    </tr>\n",
              "    <tr>\n",
              "      <th>561</th>\n",
              "      <td>205/55R16</td>\n",
              "      <td>94V</td>\n",
              "      <td>ASSURANCE DURAPLUS 2 XL</td>\n",
              "    </tr>\n",
              "    <tr>\n",
              "      <th>562</th>\n",
              "      <td>205/60R16</td>\n",
              "      <td>92V</td>\n",
              "      <td>ASSURANCE DURAPLUS 2</td>\n",
              "    </tr>\n",
              "    <tr>\n",
              "      <th>563</th>\n",
              "      <td>215/55R16</td>\n",
              "      <td>93V</td>\n",
              "      <td>ASSURANCE DURAPLUS 2</td>\n",
              "    </tr>\n",
              "    <tr>\n",
              "      <th>564</th>\n",
              "      <td>215/60R16</td>\n",
              "      <td>95V</td>\n",
              "      <td>ASSURANCE DURAPLUS 2</td>\n",
              "    </tr>\n",
              "    <tr>\n",
              "      <th>565</th>\n",
              "      <td>205/60R15</td>\n",
              "      <td>91V</td>\n",
              "      <td>ASSURANCE W/COMF</td>\n",
              "    </tr>\n",
              "  </tbody>\n",
              "</table>\n",
              "<p>566 rows × 3 columns</p>\n",
              "</div>"
            ],
            "text/plain": [
              "              0     1                        2\n",
              "0     225/75R15  106Q            WRL RAD AT XL\n",
              "1    P215/75R15  100S               WRL RAD AT\n",
              "2     235/60R16  100H    WRANGLER TRIPLEMAX FP\n",
              "3     235/60R17  102H    WRANGLER TRIPLEMAX FP\n",
              "4     215/70R16  100H    WRANGLER TRIPLEMAX FP\n",
              "..          ...   ...                      ...\n",
              "561   205/55R16   94V  ASSURANCE DURAPLUS 2 XL\n",
              "562   205/60R16   92V     ASSURANCE DURAPLUS 2\n",
              "563   215/55R16   93V     ASSURANCE DURAPLUS 2\n",
              "564   215/60R16   95V     ASSURANCE DURAPLUS 2\n",
              "565   205/60R15   91V         ASSURANCE W/COMF\n",
              "\n",
              "[566 rows x 3 columns]"
            ]
          },
          "metadata": {
            "tags": []
          },
          "execution_count": 10
        }
      ]
    },
    {
      "cell_type": "code",
      "metadata": {
        "id": "fia59izl6jYr",
        "colab_type": "code",
        "colab": {}
      },
      "source": [
        ""
      ],
      "execution_count": 0,
      "outputs": []
    }
  ]
}
